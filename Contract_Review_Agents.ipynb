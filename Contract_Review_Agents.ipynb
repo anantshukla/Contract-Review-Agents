{
  "cells": [
    {
      "cell_type": "code",
      "execution_count": 10,
      "metadata": {
        "id": "fMbMO9l_ej8-"
      },
      "outputs": [],
      "source": [
        "!pip install crewai==0.120.0 crewai-tools pymupdf -q"
      ]
    },
    {
      "cell_type": "code",
      "execution_count": null,
      "metadata": {
        "id": "uE8ypTp7fQd_"
      },
      "outputs": [],
      "source": [
        "import os\n",
        "from crewai import Agent, Task, Crew, Process\n",
        "import getpass\n",
        "import re\n",
        "\n",
        "if \"GOOGLE_API_KEY\" not in os.environ:\n",
        "    gemini_api_key = getpass.getpass(\"Enter your Google AI API key: \")\n",
        "    os.environ[\"GOOGLE_API_KEY\"] = gemini_api_key\n",
        "    os.environ[\"GEMINI_API_KEY\"] = gemini_api_key\n",
        "    # os.environ[\"GOOGLE_API_KEY\"] = gemini_api_key\n",
        "    # os.environ[\"GEMINI_API_KEY\"] = gemini_api_key\n"
      ]
    },
    {
      "cell_type": "markdown",
      "metadata": {
        "id": "HwyUbqyisGCM"
      },
      "source": [
        "# Upload contract & define text (Handles PDF and TXT)"
      ]
    },
    {
      "cell_type": "code",
      "execution_count": 12,
      "metadata": {
        "colab": {
          "base_uri": "https://localhost:8080/"
        },
        "id": "IdF8vBw1fQbG",
        "outputId": "44865c1a-e490-4441-82da-6370844c0365"
      },
      "outputs": [
        {
          "name": "stdout",
          "output_type": "stream",
          "text": [
            "Attempting to load contract from path: /content/GlobalSign_Master_Services_Agreement.pdf\n",
            "Detected PDF file. Attempting text extraction with PyMuPDF...\n",
            "Successfully extracted text from 18 PDF pages.\n",
            "\n",
            "--- Start of Loaded/Extracted Contract Text (Preview) ---\n",
            "Master Services Agreement \n",
            "THIS MASTER SERVICES AGREEMENT (THE “MSA”) AND APPLICABLE SERVICE SCHEDULE(S) GOVERN YOUR USE OF THE \n",
            "PRODUCTS AND SERVICE(S) PURCHASED BY YOU UNDER ONE OR MORE ORDER SUMMARIES. YOU MUST READ THIS MSA \n",
            "CAREFULLY BEFORE PURCHASING PRODUCTS OR SERVICES. BY CHECKING THE ACCEPTANCE BOX AND PLACING YOUR \n",
            "ORDER, YOU ARE AGREEING TO BE BOUND BY THE TERMS OF THIS MSA. IF YOU DO NOT AGREE TO THE TERMS OF THIS \n",
            "MSA, YOU WILL NOT BE PERMITTED TO ACCESS OR USE A SERVICE OR ANY PRODUCTS.   \n",
            " \n",
            "BY CHECKING THE ACCEPTANCE BOX, YOU REPRESENT AND WARRANT THAT YOU ARE AUTHORIZED TO ACCEPT THIS MSA \n",
            "ON BEHALF OF THE COMPANY SHOWN IN THE ‘SOLD TO’ FIELD ON THE ORDER SUMMARY (\"COMPANY\" OR “YOU”) AND TO \n",
            "BIND COMPANY TO THE TERMS OF THIS MSA WITH GLOBALSIGN. \n",
            " \n",
            "1. Definitions \n",
            " \n",
            "ACME MAC Key: An authentication code used for ACME external account binding between Company’s ACME Account and \n",
            "Company’s Atlas Account.  \n",
            " \n",
            "Admin: A user registered in Company’s Atlas Account and who has...\n",
            "--- End of Preview ---\n",
            "**********************************************************************\n",
            "\n",
            "Contract text is ready for analysis by the Crew.\n"
          ]
        }
      ],
      "source": [
        "import os\n",
        "import fitz\n",
        "\n",
        "uploaded_file_path = \"/content/GlobalSign_Master_Services_Agreement.pdf\"\n",
        "# uploaded_file_path = \"/content/msa.txt\"\n",
        "\n",
        "contract_text = \"\"\n",
        "\n",
        "print(f\"Attempting to load contract from path: {uploaded_file_path}\")\n",
        "\n",
        "if not os.path.exists(uploaded_file_path):\n",
        "    print(f\"ERROR: File not found at the specified path: '{uploaded_file_path}'\")\n",
        "\n",
        "else:\n",
        "    try:\n",
        "        file_extension = os.path.splitext(uploaded_file_path)[1].lower()\n",
        "\n",
        "        if file_extension == \".pdf\":\n",
        "            print(\"Detected PDF file. Attempting text extraction with PyMuPDF...\")\n",
        "            doc = fitz.open(uploaded_file_path)\n",
        "            extracted_texts = []\n",
        "            for page_num in range(len(doc)):\n",
        "                page = doc.load_page(page_num)\n",
        "                extracted_texts.append(page.get_text())\n",
        "            doc.close()\n",
        "            contract_text = \"\\n\".join(extracted_texts) # Join text from all pages\n",
        "            print(f\"Successfully extracted text from {len(extracted_texts)} PDF pages.\")\n",
        "\n",
        "        elif file_extension == \".txt\":\n",
        "            print(\"Detected TXT file. Reading as plain text...\")\n",
        "            with open(uploaded_file_path, 'r', encoding='utf-8') as f:\n",
        "                contract_text = f.read()\n",
        "            print(\"Successfully loaded text from TXT file.\")\n",
        "\n",
        "\n",
        "        # Display a preview if text was extracted/read\n",
        "        if contract_text:\n",
        "            print(\"\\n--- Start of Loaded/Extracted Contract Text (Preview) ---\")\n",
        "            print(contract_text[:1000].strip() + \"...\") # Show first 1000 characters\n",
        "            print(\"--- End of Preview ---\")\n",
        "            if len(contract_text) < 100: # Arbitrary short length check\n",
        "                 print(\"--- Warning: Extracted text seems very short. Check PDF content quality (e.g., scanned image?). ---\")\n",
        "        elif file_extension in ['.pdf', '.txt']:\n",
        "             print(\"!!! WARNING: The file was processed but no text was extracted/read. The file might be empty, password-protected, image-based, or corrupted.\")\n",
        "\n",
        "\n",
        "    except Exception as e:\n",
        "        print(f\"!!! An error occurred while processing the file: {e}\")\n",
        "        contract_text = \"\" # Ensure text is empty on error\n",
        "\n",
        "\n",
        "print(\"*\"*70)\n",
        "\n",
        "# Final check if contract_text is available\n",
        "if not contract_text:\n",
        "    print(\"\\n!!! CRITICAL ERROR: No contract text available for analysis. File loading/extraction might have failed.\")\n",
        "    raise ValueError(\"Cannot proceed without contract text.\")\n",
        "else:\n",
        "    print(\"\\nContract text is ready for analysis by the Crew.\")"
      ]
    },
    {
      "cell_type": "markdown",
      "metadata": {
        "id": "QPwWDQAnsGCN"
      },
      "source": [
        "# Select LLM and initialize Tools"
      ]
    },
    {
      "cell_type": "code",
      "execution_count": 13,
      "metadata": {
        "colab": {
          "base_uri": "https://localhost:8080/"
        },
        "id": "xKDyx4hFfQYW",
        "outputId": "2892c3d3-9d87-4891-99c4-0155b88e1548"
      },
      "outputs": [
        {
          "name": "stdout",
          "output_type": "stream",
          "text": [
            "Initializing LLM...\n",
            "LLM (gemini/gemini-2.0-flash) initialized successfully.\n"
          ]
        }
      ],
      "source": [
        "# from langchain_google_genai import ChatGoogleGenerativeAI\n",
        "from crewai import LLM\n",
        "\n",
        "print(\"Initializing LLM...\")\n",
        "\n",
        "try:\n",
        "    # llm = ChatGoogleGenerativeAI(\n",
        "    #     model=\"gemini-2.0-flash\",\n",
        "    #     temperature=0,\n",
        "    #     max_tokens=None,\n",
        "    #     timeout=None,\n",
        "    #     max_retries=2,\n",
        "    # )\n",
        "    llm = LLM(\n",
        "        model=\"gemini/gemini-2.0-flash\",\n",
        "        temperature=0.4,\n",
        "    )\n",
        "    print(f\"LLM ({llm.model}) initialized successfully.\")\n",
        "except Exception as e:\n",
        "    print(f\"Error initializing LLM: {e}\")\n",
        "    raise\n"
      ]
    },
    {
      "cell_type": "markdown",
      "metadata": {
        "id": "STeZ5UdgsGCP"
      },
      "source": [
        "# Define agents for Contract Analysis Crew"
      ]
    },
    {
      "cell_type": "code",
      "execution_count": 14,
      "metadata": {
        "colab": {
          "base_uri": "https://localhost:8080/"
        },
        "id": "ffOZVuubfQWF",
        "outputId": "bbb493a2-4eaf-454c-85c2-8acff639dfa0"
      },
      "outputs": [
        {
          "name": "stdout",
          "output_type": "stream",
          "text": [
            "Defining Contract Analysis Agents...\n",
            "- Agent 'contract_parser' defined.\n",
            "- Agent 'clause_classifier' defined.\n",
            "- Agent 'risk_pattern_detector' defined.\n",
            "- Agent 'ambiguity_identifier' defined.\n",
            "- Agent 'review_brief_generator' defined.\n",
            "All contract analysis agents defined.\n"
          ]
        }
      ],
      "source": [
        "print(\"Defining Contract Analysis Agents...\")\n",
        "\n",
        "if 'llm' not in locals() or llm is None:\n",
        "     raise ValueError(\"LLM not initialized.\")\n",
        "\n",
        "# Agent 1: Contract Parser\n",
        "contract_parser = Agent(\n",
        "    role='Legal Document Structure Analyst',\n",
        "    goal='Segment the provided contract text into individually identifiable clauses or sections. Preserve numbering if present. Output a list where each item represents a distinct clause or paragraph.',\n",
        "    backstory=(\n",
        "        \"You are meticulous at analyzing document structure. You identify distinct paragraphs or numbered items as separate clauses. \"\n",
        "        \"Your goal is to break down the contract into its core components for easier analysis by other specialists. Handle potential variations in numbering or formatting.\"\n",
        "    ),\n",
        "    tools=[],\n",
        "    llm=llm,\n",
        "    allow_delegation=False,\n",
        "    verbose=False,\n",
        "    max_iter=3\n",
        ")\n",
        "print(\"- Agent 'contract_parser' defined.\")\n",
        "\n",
        "# Agent 2: Clause classifier\n",
        "clause_classifier = Agent(\n",
        "    role='Legal Clause Taxonomy Expert',\n",
        "    goal='For each segmented clause provided, assign a likely category based on its content (e.g., Services, Term, Payment, Confidentiality, Warranty, Liability, Indemnification, Termination, Governing Law, Miscellaneous).',\n",
        "    backstory=(\n",
        "        \"You have a deep understanding of common contract structures and the purpose of different clauses. \"\n",
        "        \"Based on keywords and context, you can accurately categorize most standard contract provisions. \"\n",
        "        \"Acknowledge if a clause seems miscellaneous or hard to classify.\"\n",
        "    ),\n",
        "    tools=[],\n",
        "    llm=llm,\n",
        "    allow_delegation=False,\n",
        "    verbose=False,\n",
        "    max_iter=5\n",
        ")\n",
        "print(\"- Agent 'clause_classifier' defined.\")\n",
        "\n",
        "# Agent 3: Risk Pattern Detector\n",
        "risk_pattern_detector = Agent(\n",
        "    role='Contract Risk Spotter',\n",
        "    goal='Scan each provided contract clause text. Identify and flag clauses containing specific high-risk patterns or keywords commonly associated with unfavorable terms. Focus on patterns like: unlimited liability, broad indemnification obligations imposed ON THE CLIENT, weak warranties (e.g., extensive disclaimers), ambiguous or one-sided termination rights, automatic renewals without clear opt-out, non-standard governing law/jurisdiction choices, overly broad confidentiality obligations.',\n",
        "    backstory=(\n",
        "        \"You are trained to recognize red flags in contract language based on common legal and business risk concerns. \"\n",
        "        \"You meticulously compare clause text against a known set of potentially problematic phrases and concepts. \"\n",
        "        \"You don't interpret the overall fairness, just flag the presence of specific predefined risk patterns.\"\n",
        "    ),\n",
        "    tools=[],\n",
        "    llm=llm,\n",
        "    allow_delegation=False,\n",
        "    verbose=False,\n",
        "    max_iter=7\n",
        ")\n",
        "print(\"- Agent 'risk_pattern_detector' defined.\")\n",
        "\n",
        "# Agent 4: Ambiguity Identifier\n",
        "ambiguity_identifier = Agent(\n",
        "    role='Clarity and Precision Analyst',\n",
        "    goal='Review each contract clause for ambiguous language, undefined critical terms (e.g., \"reasonable efforts\", \"material breach\" without definition), potentially contradictory statements, or overly broad phrasing that could lead to future disputes or misinterpretations. Flag clauses requiring clarification.',\n",
        "    backstory=(\n",
        "        \"You focus intensely on linguistic precision and clarity in legal documents. You hunt for words or phrases that lack specific definition \"\n",
        "        \"where one might be needed, or sentences structured in a way that allows for multiple interpretations. Your aim is to flag areas needing refinement for certainty.\"\n",
        "    ),\n",
        "    tools=[],\n",
        "    llm=llm,\n",
        "    allow_delegation=False,\n",
        "    verbose=False,\n",
        "    max_iter=5\n",
        ")\n",
        "print(\"- Agent 'ambiguity_identifier' defined.\")\n",
        "\n",
        "# Agent 5: Review Brief Generator\n",
        "review_brief_generator = Agent(\n",
        "    role='Legal Review Summarizer',\n",
        "    goal='Consolidate all flagged clauses identified by the Risk Pattern Detector and the Ambiguity Identifier into a single, structured \"Review Brief\". For each flagged item, clearly state the clause number (or reference), the clause text, and the specific reason(s) it was flagged (e.g., \"Risk Pattern: Unlimited Liability\", \"Ambiguity: Undefined term \\'material\\'\"). Organize the brief for efficient review by a legal professional.',\n",
        "    backstory=(\n",
        "        \"You excel at synthesizing analytical findings into clear, actionable summaries for busy professionals. \"\n",
        "        \"You organize flagged items logically, provide necessary context (clause text and reason), and ensure the output is easy to scan and understand. \"\n",
        "        \"The goal is to facilitate a focused human review.\"\n",
        "    ),\n",
        "    tools=[],\n",
        "    llm=llm,\n",
        "    allow_delegation=False,\n",
        "    verbose=False,\n",
        "    max_iter=3\n",
        ")\n",
        "print(\"- Agent 'review_brief_generator' defined.\")\n",
        "\n",
        "print(\"All contract analysis agents defined.\")"
      ]
    },
    {
      "cell_type": "markdown",
      "metadata": {
        "id": "4jlZVlKtsGCR"
      },
      "source": [
        "# Define Tasks for Contract Analysis Crew"
      ]
    },
    {
      "cell_type": "code",
      "execution_count": 15,
      "metadata": {
        "colab": {
          "base_uri": "https://localhost:8080/"
        },
        "id": "kyUqyZzbfQTx",
        "outputId": "a42f5b43-da26-4897-8e4e-1f358c3f94a7"
      },
      "outputs": [
        {
          "name": "stdout",
          "output_type": "stream",
          "text": [
            "Defining Contract Analysis Tasks...\n",
            "- Task 'task_parse_contract' defined.\n",
            "- Task 'task_classify_clauses' defined.\n",
            "- Task 'task_detect_risks' defined.\n",
            "- Task 'task_identify_ambiguities' defined.\n",
            "- Task 'task_generate_brief' defined.\n",
            "All contract analysis tasks defined.\n"
          ]
        }
      ],
      "source": [
        "print(\"Defining Contract Analysis Tasks...\")\n",
        "\n",
        "# Verify agents are defined\n",
        "if 'contract_parser' not in locals() or \\\n",
        "   'clause_classifier' not in locals() or \\\n",
        "   'risk_pattern_detector' not in locals() or \\\n",
        "   'ambiguity_identifier' not in locals() or \\\n",
        "   'review_brief_generator' not in locals():\n",
        "    raise ValueError(\"One or more required agents are not defined.\")\n",
        "\n",
        "# --- Task 1: Parse Contract into Clauses ---\n",
        "task_parse_contract = Task(\n",
        "    description=(\n",
        "        f\"Process the following contract text provided in the initial input:\\n---\\n{contract_text}\\n---\\n\"\n",
        "        f\"Segment this text into a list of distinct clauses or sections. Attempt to preserve any existing numbering (e.g., '1.', 'Section 2.1').\"\n",
        "        f\"Output should be a structured representation (like a numbered list or list of strings) of these segmented clauses.\"\n",
        "    ),\n",
        "    agent=contract_parser,\n",
        "    expected_output=(\n",
        "        \"A list containing the text of each identified clause or section from the input contract. \"\n",
        "        \"Example: ['1. SERVICES. Provider agrees...', '2. TERM. This Agreement shall...', ...]\"\n",
        "    )\n",
        ")\n",
        "print(\"- Task 'task_parse_contract' defined.\")\n",
        "\n",
        "# --- Task 2: Classify Clauses ---\n",
        "task_classify_clauses = Task(\n",
        "    description=(\n",
        "        \"Take the list of segmented contract clauses (provided from the previous task's context). \"\n",
        "        \"For each clause, determine its likely primary category (e.g., Services, Term, Payment, Confidentiality, Warranty, Limitation of Liability, Indemnification, Termination, Governing Law, Entire Agreement/Miscellaneous). \"\n",
        "        \"Present the output as a list where each item contains the original clause text and its assigned category.\"\n",
        "    ),\n",
        "    agent=clause_classifier,\n",
        "    expected_output=(\n",
        "        \"A list, where each element corresponds to a clause and includes the clause text and its assigned category. \"\n",
        "        \"Example: [{'clause_text': '1. SERVICES...', 'category': 'Services'}, {'clause_text': '6. LIMITATION OF LIABILITY...', 'category': 'Limitation of Liability'}, ...]\"\n",
        "    ),\n",
        "    context=[task_parse_contract] # Needs the segmented clauses\n",
        ")\n",
        "print(\"- Task 'task_classify_clauses' defined.\")\n",
        "\n",
        "# --- Task 3: Detect Risk Patterns ---\n",
        "task_detect_risks = Task(\n",
        "    description=(\n",
        "        \"Review the list of classified contract clauses (provided in context). \"\n",
        "        \"Scan the text of *each* clause specifically for the presence of predefined high-risk patterns or keywords (as defined in the Risk Spotter agent's goal, e.g., unlimited liability, broad client indemnification, weak warranties, ambiguous termination, auto-renewal issues, non-standard jurisdiction). \"\n",
        "        \"Output a list containing ONLY the clauses that were flagged, including the clause text and the specific risk pattern(s) identified for each flagged clause.\"\n",
        "    ),\n",
        "    agent=risk_pattern_detector,\n",
        "    expected_output=(\n",
        "        \"A list containing only the clauses identified as potentially risky. Each item in the list should include the clause text and the specific reason(s)/pattern(s) why it was flagged. If no risks are found, the list should be empty. \"\n",
        "        \"Example: [{'clause_text': '6. LIMITATION OF LIABILITY...', 'risk_flag': 'Broad disclaimer of implied warranties'}, {'clause_text': '7. INDEMNIFICATION...', 'risk_flag': 'Client indemnifies Provider broadly'}]\"\n",
        "    ),\n",
        "    context=[task_classify_clauses] # Needs the classified clauses (provides context and text)\n",
        ")\n",
        "print(\"- Task 'task_detect_risks' defined.\")\n",
        "\n",
        "# --- Task 4: Identify Ambiguities ---\n",
        "task_identify_ambiguities = Task(\n",
        "    description=(\n",
        "        \"Review the list of classified contract clauses (provided in context). \"\n",
        "        \"Analyze the text of *each* clause for potential ambiguities, undefined critical terms, vague language, or contradictions that might require clarification. \"\n",
        "        \"Output a list containing ONLY the clauses that were flagged for ambiguity, including the clause text and a brief explanation of the ambiguity identified in each flagged clause.\"\n",
        "    ),\n",
        "    agent=ambiguity_identifier,\n",
        "    expected_output=(\n",
        "        \"A list containing only the clauses identified as potentially ambiguous. Each item should include the clause text and a brief note explaining the source of ambiguity. If no ambiguities are found, the list should be empty. \"\n",
        "        \"Example: [{'clause_text': '1. SERVICES... Provider shall determine the method...', 'ambiguity_flag': 'Term \\\"method, details, and means\\\" is vague'}, {'clause_text': '8. TERMINATION... materially breaches...', 'ambiguity_flag': 'Term \\\"materially breaches\\\" is undefined'}]\"\n",
        "    ),\n",
        "    context=[task_classify_clauses] # Needs the classified clauses\n",
        ")\n",
        "print(\"- Task 'task_identify_ambiguities' defined.\")\n",
        "\n",
        "# --- Task 5: Generate Review Brief ---\n",
        "task_generate_brief = Task(\n",
        "    description=(\n",
        "        \"Consolidate the findings from the risk detection task and the ambiguity identification task (outputs provided in context) into a structured 'Contract Review Brief'. \"\n",
        "        \"The brief should have two main sections: 'Potential Risk Flags' and 'Potential Ambiguities/Clarifications Needed'. \"\n",
        "        \"Under each section, list the items identified previously, including the original clause text (or a clear reference like clause number if consistently available from parsing) and the specific reason it was flagged (risk pattern or ambiguity explanation). \"\n",
        "        \"Format the output clearly using Markdown for easy reading by a legal professional.\"\n",
        "    ),\n",
        "    agent=review_brief_generator,\n",
        "    expected_output=(\n",
        "        \"A well-formatted Markdown document titled 'Contract Review Brief (AI Assisted)'. \"\n",
        "        \"It should contain two distinct sections: 'Potential Risk Flags' and 'Potential Ambiguities/Clarifications Needed'. \"\n",
        "        \"Each section should list the relevant flagged clauses with their text and the reason for flagging. \"\n",
        "        \"The output should be ready for human review.\"\n",
        "    ),\n",
        "    # Needs the outputs from BOTH the risk detection and ambiguity identification tasks\n",
        "    context=[task_detect_risks, task_identify_ambiguities]\n",
        ")\n",
        "print(\"- Task 'task_generate_brief' defined.\")\n",
        "\n",
        "print(\"All contract analysis tasks defined.\")"
      ]
    },
    {
      "cell_type": "code",
      "execution_count": 16,
      "metadata": {
        "colab": {
          "base_uri": "https://localhost:8080/",
          "height": 416
        },
        "id": "vC4NAB7XfQNt",
        "outputId": "2babb410-939f-4d87-fdaf-095328d6c261"
      },
      "outputs": [
        {
          "name": "stdout",
          "output_type": "stream",
          "text": [
            "Creating the Contract Analysis Crew...\n",
            "Contract Analysis Crew created. Starting the process with kickoff()...\n"
          ]
        },
        {
          "name": "stderr",
          "output_type": "stream",
          "text": [
            "ERROR:root:Error during short_term search: 400 400 POST https://generativelanguage.googleapis.com/v1beta/models/text-embedding-004:embedContent?%24alt=json%3Benum-encoding%3Dint: Request payload size exceeds the limit: 36000 bytes. in query.\n",
            "WARNING:tornado.access:400 POST /v1beta/models/text-embedding-004:embedContent?%24alt=json%3Benum-encoding%3Dint (127.0.0.1) 535.20ms\n",
            "WARNING:tornado.access:400 POST /v1beta/models/text-embedding-004:embedContent?%24alt=json%3Benum-encoding%3Dint (127.0.0.1) 258.43ms\n",
            "ERROR:root:Error during entities search: 400 400 POST https://generativelanguage.googleapis.com/v1beta/models/text-embedding-004:embedContent?%24alt=json%3Benum-encoding%3Dint: Request payload size exceeds the limit: 36000 bytes. in query.\n",
            "ERROR:root:Error during short_term save: 400 400 POST https://generativelanguage.googleapis.com/v1beta/models/text-embedding-004:embedContent?%24alt=json%3Benum-encoding%3Dint: Request payload size exceeds the limit: 36000 bytes. in add.\n",
            "WARNING:tornado.access:400 POST /v1beta/models/text-embedding-004:embedContent?%24alt=json%3Benum-encoding%3Dint (127.0.0.1) 205.41ms\n",
            "WARNING:tornado.access:400 POST /v1beta/models/text-embedding-004:embedContent?%24alt=json%3Benum-encoding%3Dint (127.0.0.1) 179.18ms\n",
            "ERROR:root:Error during short_term search: 400 400 POST https://generativelanguage.googleapis.com/v1beta/models/text-embedding-004:embedContent?%24alt=json%3Benum-encoding%3Dint: Request payload size exceeds the limit: 36000 bytes. in query.\n",
            "ERROR:root:Error during entities search: 400 400 POST https://generativelanguage.googleapis.com/v1beta/models/text-embedding-004:embedContent?%24alt=json%3Benum-encoding%3Dint: Request payload size exceeds the limit: 36000 bytes. in query.\n",
            "WARNING:tornado.access:400 POST /v1beta/models/text-embedding-004:embedContent?%24alt=json%3Benum-encoding%3Dint (127.0.0.1) 229.57ms\n",
            "WARNING:tornado.access:400 POST /v1beta/models/text-embedding-004:embedContent?%24alt=json%3Benum-encoding%3Dint (127.0.0.1) 181.42ms\n",
            "ERROR:root:Error during short_term save: 400 400 POST https://generativelanguage.googleapis.com/v1beta/models/text-embedding-004:embedContent?%24alt=json%3Benum-encoding%3Dint: Request payload size exceeds the limit: 36000 bytes. in add.\n",
            "WARNING:tornado.access:400 POST /v1beta/models/text-embedding-004:embedContent?%24alt=json%3Benum-encoding%3Dint (127.0.0.1) 154.53ms\n",
            "ERROR:root:Error during short_term search: 400 400 POST https://generativelanguage.googleapis.com/v1beta/models/text-embedding-004:embedContent?%24alt=json%3Benum-encoding%3Dint: Request payload size exceeds the limit: 36000 bytes. in query.\n",
            "WARNING:tornado.access:400 POST /v1beta/models/text-embedding-004:embedContent?%24alt=json%3Benum-encoding%3Dint (127.0.0.1) 155.01ms\n",
            "ERROR:root:Error during entities search: 400 400 POST https://generativelanguage.googleapis.com/v1beta/models/text-embedding-004:embedContent?%24alt=json%3Benum-encoding%3Dint: Request payload size exceeds the limit: 36000 bytes. in query.\n",
            "WARNING:tornado.access:400 POST /v1beta/models/text-embedding-004:embedContent?%24alt=json%3Benum-encoding%3Dint (127.0.0.1) 157.17ms\n",
            "ERROR:root:Error during short_term search: 400 400 POST https://generativelanguage.googleapis.com/v1beta/models/text-embedding-004:embedContent?%24alt=json%3Benum-encoding%3Dint: Request payload size exceeds the limit: 36000 bytes. in query.\n",
            "WARNING:tornado.access:400 POST /v1beta/models/text-embedding-004:embedContent?%24alt=json%3Benum-encoding%3Dint (127.0.0.1) 153.48ms\n",
            "ERROR:root:Error during entities search: 400 400 POST https://generativelanguage.googleapis.com/v1beta/models/text-embedding-004:embedContent?%24alt=json%3Benum-encoding%3Dint: Request payload size exceeds the limit: 36000 bytes. in query.\n"
          ]
        },
        {
          "name": "stdout",
          "output_type": "stream",
          "text": [
            "CONTRACT ANALYSIS FINISHED\n"
          ]
        }
      ],
      "source": [
        "print(\"Creating the Contract Analysis Crew...\")\n",
        "\n",
        "# Verify all components are ready\n",
        "if 'contract_parser' not in locals() or \\\n",
        "   'clause_classifier' not in locals() or \\\n",
        "   'risk_pattern_detector' not in locals() or \\\n",
        "   'ambiguity_identifier' not in locals() or \\\n",
        "   'review_brief_generator' not in locals() or \\\n",
        "   'task_parse_contract' not in locals() or \\\n",
        "   'task_classify_clauses' not in locals() or \\\n",
        "   'task_detect_risks' not in locals() or \\\n",
        "   'task_identify_ambiguities' not in locals() or \\\n",
        "   'task_generate_brief' not in locals():\n",
        "    raise ValueError(\"Missing agents or tasks needed to create the Contract Analysis Crew.\")\n",
        "\n",
        "# Assemble the Crew\n",
        "contract_analysis_crew = Crew(\n",
        "    agents=[contract_parser, clause_classifier, risk_pattern_detector, ambiguity_identifier, review_brief_generator],\n",
        "    tasks=[task_parse_contract, task_classify_clauses, task_detect_risks, task_identify_ambiguities, task_generate_brief],\n",
        "    process=Process.sequential,\n",
        "    memory=True,\n",
        "    embedder={\n",
        "        \"provider\": \"google\",\n",
        "        \"config\": {\n",
        "            \"model\": \"text-embedding-004\",\n",
        "            \"api_key\": os.environ[\"GOOGLE_API_KEY\"]\n",
        "          },\n",
        "    },\n",
        "    cache=True,\n",
        "    verbose=False\n",
        ")\n",
        "\n",
        "print(\"Contract Analysis Crew created. Starting the process with kickoff()...\")\n",
        "\n",
        "crew_inputs = {\n",
        "    'contract_full_text': contract_text\n",
        "}\n",
        "\n",
        "result = contract_analysis_crew.kickoff(inputs=crew_inputs)\n",
        "\n",
        "print(\"CONTRACT ANALYSIS FINISHED\")\n"
      ]
    },
    {
      "cell_type": "code",
      "execution_count": 17,
      "metadata": {
        "colab": {
          "base_uri": "https://localhost:8080/"
        },
        "id": "l-GtN4DefQK9",
        "outputId": "494065e4-27d9-4c9a-9e8a-f93b35972912"
      },
      "outputs": [
        {
          "name": "stdout",
          "output_type": "stream",
          "text": [
            "```markdown\n",
            "# Contract Review Brief (AI Assisted)\n",
            "\n",
            "This document summarizes potential risks and ambiguities identified in the contract. It is intended to facilitate a focused review by a legal professional.\n",
            "\n",
            "## Potential Risk Flags\n",
            "\n",
            "*   **Clause 5.3 Warranty Disclaimer for Test Services:**\n",
            "    *   **Clause Text:** \"5.3 Warranty Disclaimer for Test Services. COMPANY ACKNOWLEDGES THAT ANY TEST SERVICES OR PRODUCTS PROVIDED \\nFOR EVALUATION OR TEST PURPOSES ARE PROVIDED “AS IS” AND WITHOUT ANY WARRANTY WHATSOEVER. TO THE \\nMAXIMUM EXTENT ALLOWED BY APPLICABLE LAW, GLOBALSIGN EXPRESSLY DISCLAIMS ALL REPRESENTATIONS AND \\nWARRANTIES OF ANY KIND, EITHER EXPRESS OR IMPLIED, INCLUDING, WITHOUT LIMITATION, ANY WARRANTIES OF \\nMERCHANTABILITY, FITNESS FOR A PARTICULAR PURPOSE, OR NONINFRINGEMENT, RELATING TO THE TEST SERVICES, \\nPRODUCTS, COMPANY’S USE OR ANY INABILITY TO USE A TEST SERVICE OR PRODUCTS, THE RESULTS OF THEIR USE AND \\nTHIS MSA.\"\n",
            "    *   **Reason:** Broad disclaimer of warranties for Test Services, including merchantability and fitness for a particular purpose.\n",
            "\n",
            "*   **Clause 5.4 LIMITATION OF LIABILITY FOR TEST SERVICES:**\n",
            "    *   **Clause Text:** \"5.4 LIMITATION OF LIABILITY FOR TEST SERVICES. GLOBALSIGN SHALL NOT BE LIABLE TO COMPANY OR ANY THIRD PARTY \\nFOR ANY CLAIMS, DEMANDS OR DAMAGES WHATSOEVER, INCLUDING, WITHOUT LIMITATION, DIRECT, INDIRECT, \\nCONSEQUENTIAL OR SPECIAL DAMAGES, ARISING OUT OF THE USE OF THE PRODUCTS OR TEST SERVICES FOR EVALUATION \\nOR TEST PURPOSES AND THE USE OR FAILURE OF THE TEST SERVICES TO OPERATE FOR WHATEVER REASON, WHETHER \\nSUCH ACTION IS BASED IN CONTRACT OR TORT OR OTHERWISE, INCLUDING, WITHOUT LIMITATION, NEGLIGENCE.\"\n",
            "    *   **Reason:** Broad limitation of liability for Test Services, including direct, indirect, consequential, or special damages, even in cases of negligence.\n",
            "\n",
            "*   **Clause 9.5 No Other Warranty:**\n",
            "    *   **Clause Text:** \"9.5 No Other Warranty.  EXCEPT AS PROVIDED IN THE CPS OR TPS  AT https://www.globalsign.com/en/repository, AND TO \\nTHE MAXIMUM EXTENT ALLOWED BY APPLICABLE LAW, GLOBALSIGN, ITS AFFILIATES, AND THEIR RESPECTIVE SUCCESSORS, \\nDIRECTORS, OFFICERS, EMPLOYEES, AND AGENTS DISCLAIM ALL OTHER WARRANTIES AS TO THE USE, DELIVERY, LICENSE, \\nPERFORMANCE OR NONPERFORMANCE OF, USE OR INABILITY TO USE THE SERVICES, PRODUCTS, THIRD PARTY PRODUCTS, \\nCERTIFICATES, SOFTWARE, DOCUMENTATION OR ANY OTHER SERVICES OFFERED OR CONTEMPLATED BY THIS \\nAGREEMENT, EXPRESS OR IMPLIED. GLOBALSIGN, ITS AFFILIATES, AND THEIR RESPECTIVE SUCCESSORS, DIRECTORS, \\nOFFICERS, EMPLOYEES, AND AGENTS EXPRESSLY DISCLAIM ALL REPRESENTATIONS AND WARRANTIES OF ANY KIND, EITHER \\nEXPRESS OR IMPLIED, INCLUDING, WITHOUT LIMITATION, ANY WARRANTIES OF MERCHANTABILITY, FITNESS FOR A \\nPARTICULAR PURPOSE, OR NONINFRINGEMENT. GLOBALSIGN DOES NOT WARRANT THAT THE SERVICE OR ANY PRODUCTS \\nWILL BE UNINTERRUPTED OR ERROR-FREE.\"\n",
            "    *   **Reason:** Broad disclaimer of warranties, including merchantability, fitness for a particular purpose, and uninterrupted/error-free service.\n",
            "\n",
            "*   **Clause 12.3 Indemnification:**\n",
            "    *   **Clause Text:** \"12.3 Company will settle and/or defend at its own expense and indemnify and hold harmless GlobalSign against any cost, \\nloss or damage from any claim, demand, suit or action brought by a third party against GlobalSign arising out of or related \\nto any (i) breach of this MSA by Company, (ii) use of the Service or Products by a third party who is accessing or acquiring \\nthe Service or Products through Company, (iii) use of any Third Party Products in combination with the Service, or (iv)  \\nCompany’s failure to comply with Section 2.1 above.\"\n",
            "    *   **Reason:** Client (Company) indemnifies Provider (GlobalSign) against broad claims, including those arising from third-party use of services accessed through the client, use of third-party products, and breach of MSA.\n",
            "\n",
            "## Potential Ambiguities/Clarifications Needed\n",
            "\n",
            "*   **Clause 3 Limitations on Use:**\n",
            "    *   **Clause Text:** \"3. Limitations on Use. Company shall not: (e) use the Services other than in accordance with this MSA and in compliance with all applicable Industry Standards, laws and regulations.  In addition to any specific use limitations \\nthat may be set forth in a Service Schedule, GlobalSign may set and enforce limits for reasonable use in order to prevent \\nabuse of or undue burden on the Services.\"\n",
            "    *   **Reason:** The term \"reasonable use\" is not defined, leading to potential disputes about what constitutes abuse or undue burden.\n",
            "\n",
            "*   **Clause 7.1 Termination (Material Breach):**\n",
            "    *   **Clause Text:** \"7.1 Termination. By GlobalSign: This MSA or any Service Schedule may be terminated by \\nGlobalSign upon written notice to Company: (a) if Company materially breaches this MSA or any Service Schedule and such \\nbreach continues for a period of thirty (30) days after notice thereof has been given by GlobalSign\"\n",
            "    *   **Reason:** The term \"materially breaches\" is undefined, making it unclear what level of breach warrants termination.\n",
            "\n",
            "*   **Clause 7.1 Termination (Security/Compliance Risk):**\n",
            "    *   **Clause Text:** \"7.1 Termination. Notwithstanding the above, this MSA may be terminated immediately by GlobalSign upon \\nwritten notice if GlobalSign determines, in its reasonable discretion, that Company poses a security or compliance risk to \\nthe Service or GlobalSign.\"\n",
            "    *   **Reason:** The phrase \"reasonable discretion\" is subjective and could lead to disputes regarding what constitutes a legitimate security or compliance risk. The terms \"security risk\" and \"compliance risk\" are also undefined.\n",
            "\n",
            "*   **Clause 10 Confidentiality:**\n",
            "    *   **Clause Text:** \"10. Confidentiality. “Confidential Information” means all information that is provided or made available to one party (the \\n“Receiving Party”) by the other party (the “Disclosing Party”). Confidential Information includes, but is not limited to: \\ninventions, technologies; strategies; trade secrets; customer and supplier lists; product designs and pricing information; \\nprocesses; formulas; business plans; employer and consumer information; employee data; product licensing plans; \\nbudgets, finances, and financial plans; production plans and protocols; technology infrastructure; information security \\nsystems, policies and practices, and technology, data, and methods, and any other information that by its nature would \\ntypically be considered non-public information.\"\n",
            "    *   **Reason:** The phrase \"any other information that by its nature would typically be considered non-public information\" is vague and subjective. It lacks a clear standard for determining what qualifies as confidential.\n",
            "\n",
            "*   **Confidentiality - Degree of Care:**\n",
            "    *   **Clause Text:** \"The Receiving Party will protect, and will ensure its employees, officers, agents and contractors will protect Confidential \\nInformation by using the same degree of care as Receiving Party uses to protect its own Confidential Information of a like \\nnature (but no less than a reasonable degree of care) to prevent the unauthorized use, dissemination, disclosure or \\npublication of such Confidential Information.\"\n",
            "    *   **Reason:** The phrase \"reasonable degree of care\" is subjective and lacks a clear standard. It's unclear what actions would satisfy this requirement.\n",
            "\n",
            "*   **Clause 12.2 Infringement Claim Resolution:**\n",
            "    *   **Clause Text:** \"12.2 Should the Services become, or in GlobalSign’s sole opinion likely to become, the subject of any claim or action for \\ninfringement, GlobalSign may (a) procure, at no cost to Company, the right for Company to continue using the Services as \\ncontemplated hereunder; (b) modify the Service, without loss of material functionality or performance, to render the \\nServices non-infringing; or (c) if the foregoing alternatives are not reasonably available to GlobalSign, terminate this MSA.\"\n",
            "    *   **Reason:** The phrase \"reasonably available\" is subjective and could lead to disputes regarding what constitutes reasonable availability. It's unclear what factors GlobalSign should consider when determining if the alternatives are reasonably available.\n",
            "```\n"
          ]
        }
      ],
      "source": [
        "if 'result' in locals():\n",
        "    print(result)\n",
        "else:\n",
        "    print(\"The 'result' variable is not defined.\")\n"
      ]
    },
    {
      "cell_type": "markdown",
      "metadata": {
        "id": "4YilGgDHnfGI"
      },
      "source": [
        "# Contract Review Brief (AI Assisted)\n",
        "\n",
        "This document summarizes potential risks and ambiguities identified in the contract. It is intended to facilitate a focused review by a legal professional.\n",
        "\n",
        "## Potential Risk Flags\n",
        "\n",
        "*   **Clause 5.3 Warranty Disclaimer for Test Services:**\n",
        "    *   **Clause Text:** \"5.3 Warranty Disclaimer for Test Services. COMPANY ACKNOWLEDGES THAT ANY TEST SERVICES OR PRODUCTS PROVIDED \\nFOR EVALUATION OR TEST PURPOSES ARE PROVIDED “AS IS” AND WITHOUT ANY WARRANTY WHATSOEVER. TO THE \\nMAXIMUM EXTENT ALLOWED BY APPLICABLE LAW, GLOBALSIGN EXPRESSLY DISCLAIMS ALL REPRESENTATIONS AND \\nWARRANTIES OF ANY KIND, EITHER EXPRESS OR IMPLIED, INCLUDING, WITHOUT LIMITATION, ANY WARRANTIES OF \\nMERCHANTABILITY, FITNESS FOR A PARTICULAR PURPOSE, OR NONINFRINGEMENT, RELATING TO THE TEST SERVICES, \\nPRODUCTS, COMPANY’S USE OR ANY INABILITY TO USE A TEST SERVICE OR PRODUCTS, THE RESULTS OF THEIR USE AND \\nTHIS MSA.\"\n",
        "    *   **Reason:** Broad disclaimer of warranties for Test Services, including merchantability and fitness for a particular purpose.\n",
        "\n",
        "*   **Clause 5.4 LIMITATION OF LIABILITY FOR TEST SERVICES:**\n",
        "    *   **Clause Text:** \"5.4 LIMITATION OF LIABILITY FOR TEST SERVICES. GLOBALSIGN SHALL NOT BE LIABLE TO COMPANY OR ANY THIRD PARTY \\nFOR ANY CLAIMS, DEMANDS OR DAMAGES WHATSOEVER, INCLUDING, WITHOUT LIMITATION, DIRECT, INDIRECT, \\nCONSEQUENTIAL OR SPECIAL DAMAGES, ARISING OUT OF THE USE OF THE PRODUCTS OR TEST SERVICES FOR EVALUATION \\nOR TEST PURPOSES AND THE USE OR FAILURE OF THE TEST SERVICES TO OPERATE FOR WHATEVER REASON, WHETHER \\nSUCH ACTION IS BASED IN CONTRACT OR TORT OR OTHERWISE, INCLUDING, WITHOUT LIMITATION, NEGLIGENCE.\"\n",
        "    *   **Reason:** Broad limitation of liability for Test Services, including direct, indirect, consequential, or special damages, even in cases of negligence.\n",
        "\n",
        "*   **Clause 9.5 No Other Warranty:**\n",
        "    *   **Clause Text:** \"9.5 No Other Warranty.  EXCEPT AS PROVIDED IN THE CPS OR TPS  AT https://www.globalsign.com/en/repository, AND TO \\nTHE MAXIMUM EXTENT ALLOWED BY APPLICABLE LAW, GLOBALSIGN, ITS AFFILIATES, AND THEIR RESPECTIVE SUCCESSORS, \\nDIRECTORS, OFFICERS, EMPLOYEES, AND AGENTS DISCLAIM ALL OTHER WARRANTIES AS TO THE USE, DELIVERY, LICENSE, \\nPERFORMANCE OR NONPERFORMANCE OF, USE OR INABILITY TO USE THE SERVICES, PRODUCTS, THIRD PARTY PRODUCTS, \\nCERTIFICATES, SOFTWARE, DOCUMENTATION OR ANY OTHER SERVICES OFFERED OR CONTEMPLATED BY THIS \\nAGREEMENT, EXPRESS OR IMPLIED. GLOBALSIGN, ITS AFFILIATES, AND THEIR RESPECTIVE SUCCESSORS, DIRECTORS, \\nOFFICERS, EMPLOYEES, AND AGENTS EXPRESSLY DISCLAIM ALL REPRESENTATIONS AND WARRANTIES OF ANY KIND, EITHER \\nEXPRESS OR IMPLIED, INCLUDING, WITHOUT LIMITATION, ANY WARRANTIES OF MERCHANTABILITY, FITNESS FOR A \\nPARTICULAR PURPOSE, OR NONINFRINGEMENT. GLOBALSIGN DOES NOT WARRANT THAT THE SERVICE OR ANY PRODUCTS \\nWILL BE UNINTERRUPTED OR ERROR-FREE.\"\n",
        "    *   **Reason:** Broad disclaimer of warranties, including merchantability, fitness for a particular purpose, and uninterrupted/error-free service.\n",
        "\n",
        "*   **Clause 12.3 Indemnification:**\n",
        "    *   **Clause Text:** \"12.3 Company will settle and/or defend at its own expense and indemnify and hold harmless GlobalSign against any cost, \\nloss or damage from any claim, demand, suit or action brought by a third party against GlobalSign arising out of or related \\nto any (i) breach of this MSA by Company, (ii) use of the Service or Products by a third party who is accessing or acquiring \\nthe Service or Products through Company, (iii) use of any Third Party Products in combination with the Service, or (iv)  \\nCompany’s failure to comply with Section 2.1 above.\"\n",
        "    *   **Reason:** Client (Company) indemnifies Provider (GlobalSign) against broad claims, including those arising from third-party use of services accessed through the client, use of third-party products, and breach of MSA.\n",
        "\n",
        "## Potential Ambiguities/Clarifications Needed\n",
        "\n",
        "*   **Clause 3 Limitations on Use:**\n",
        "    *   **Clause Text:** \"3. Limitations on Use. Company shall not: (e) use the Services other than in accordance with this MSA and in compliance with all applicable Industry Standards, laws and regulations.  In addition to any specific use limitations \\nthat may be set forth in a Service Schedule, GlobalSign may set and enforce limits for reasonable use in order to prevent \\nabuse of or undue burden on the Services.\"\n",
        "    *   **Reason:** The term \"reasonable use\" is not defined, leading to potential disputes about what constitutes abuse or undue burden.\n",
        "\n",
        "*   **Clause 7.1 Termination (Material Breach):**\n",
        "    *   **Clause Text:** \"7.1 Termination. By GlobalSign: This MSA or any Service Schedule may be terminated by \\nGlobalSign upon written notice to Company: (a) if Company materially breaches this MSA or any Service Schedule and such \\nbreach continues for a period of thirty (30) days after notice thereof has been given by GlobalSign\"\n",
        "    *   **Reason:** The term \"materially breaches\" is undefined, making it unclear what level of breach warrants termination.\n",
        "\n",
        "*   **Clause 7.1 Termination (Security/Compliance Risk):**\n",
        "    *   **Clause Text:** \"7.1 Termination. Notwithstanding the above, this MSA may be terminated immediately by GlobalSign upon \\nwritten notice if GlobalSign determines, in its reasonable discretion, that Company poses a security or compliance risk to \\nthe Service or GlobalSign.\"\n",
        "    *   **Reason:** The phrase \"reasonable discretion\" is subjective and could lead to disputes regarding what constitutes a legitimate security or compliance risk. The terms \"security risk\" and \"compliance risk\" are also undefined.\n",
        "\n",
        "*   **Clause 10 Confidentiality:**\n",
        "    *   **Clause Text:** \"10. Confidentiality. “Confidential Information” means all information that is provided or made available to one party (the \\n“Receiving Party”) by the other party (the “Disclosing Party”). Confidential Information includes, but is not limited to: \\ninventions, technologies; strategies; trade secrets; customer and supplier lists; product designs and pricing information; \\nprocesses; formulas; business plans; employer and consumer information; employee data; product licensing plans; \\nbudgets, finances, and financial plans; production plans and protocols; technology infrastructure; information security \\nsystems, policies and practices, and technology, data, and methods, and any other information that by its nature would \\ntypically be considered non-public information.\"\n",
        "    *   **Reason:** The phrase \"any other information that by its nature would typically be considered non-public information\" is vague and subjective. It lacks a clear standard for determining what qualifies as confidential.\n",
        "\n",
        "*   **Confidentiality - Degree of Care:**\n",
        "    *   **Clause Text:** \"The Receiving Party will protect, and will ensure its employees, officers, agents and contractors will protect Confidential \\nInformation by using the same degree of care as Receiving Party uses to protect its own Confidential Information of a like \\nnature (but no less than a reasonable degree of care) to prevent the unauthorized use, dissemination, disclosure or \\npublication of such Confidential Information.\"\n",
        "    *   **Reason:** The phrase \"reasonable degree of care\" is subjective and lacks a clear standard. It's unclear what actions would satisfy this requirement.\n",
        "\n",
        "*   **Clause 12.2 Infringement Claim Resolution:**\n",
        "    *   **Clause Text:** \"12.2 Should the Services become, or in GlobalSign’s sole opinion likely to become, the subject of any claim or action for \\ninfringement, GlobalSign may (a) procure, at no cost to Company, the right for Company to continue using the Services as \\ncontemplated hereunder; (b) modify the Service, without loss of material functionality or performance, to render the \\nServices non-infringing; or (c) if the foregoing alternatives are not reasonably available to GlobalSign, terminate this MSA.\"\n",
        "    *   **Reason:** The phrase \"reasonably available\" is subjective and could lead to disputes regarding what constitutes reasonable availability. It's unclear what factors GlobalSign should consider when determining if the alternatives are reasonably available.\n"
      ]
    },
    {
      "cell_type": "code",
      "execution_count": null,
      "metadata": {
        "id": "beSUPzDinjFt"
      },
      "outputs": [],
      "source": []
    }
  ],
  "metadata": {
    "colab": {
      "provenance": []
    },
    "kernelspec": {
      "display_name": "Python 3",
      "name": "python3"
    },
    "language_info": {
      "name": "python"
    }
  },
  "nbformat": 4,
  "nbformat_minor": 0
}
